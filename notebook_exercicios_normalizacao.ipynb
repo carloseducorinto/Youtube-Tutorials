{
  "cells": [
    {
      "cell_type": "markdown",
      "metadata": {
        "id": "view-in-github",
        "colab_type": "text"
      },
      "source": [
        "<a href=\"https://colab.research.google.com/github/carloseducorinto/Youtube-Tutorials/blob/main/notebook_exercicios_normalizacao.ipynb\" target=\"_parent\"><img src=\"https://colab.research.google.com/assets/colab-badge.svg\" alt=\"Open In Colab\"/></a>"
      ]
    },
    {
      "cell_type": "markdown",
      "id": "ff3ab778",
      "metadata": {
        "id": "ff3ab778"
      },
      "source": [
        "# Lista de Exercícios: Camadas de Normalização\n",
        "\n",
        "Este notebook contém uma série de exercícios computacionais em Python e PyTorch sobre camadas de normalização, focados no aprendizado prático dos alunos. Cada seção apresenta múltiplas perguntas e vem com gabarito para facilitar a verificação.\n",
        "\n",
        "---"
      ]
    },
    {
      "cell_type": "markdown",
      "id": "1e1ebb26",
      "metadata": {
        "id": "1e1ebb26"
      },
      "source": [
        "## 1. Z-normalização (Standard Score)\n",
        "\n",
        "Implemente a Z-normalização e compare as distribuições antes e depois."
      ]
    },
    {
      "cell_type": "code",
      "execution_count": 2,
      "id": "921ee3e9",
      "metadata": {
        "id": "921ee3e9",
        "outputId": "be3acae6-1270-4cbf-86d5-f81cad20a7f7",
        "colab": {
          "base_uri": "https://localhost:8080/",
          "height": 537
        }
      },
      "outputs": [
        {
          "output_type": "display_data",
          "data": {
            "text/plain": [
              "<Figure size 1200x500 with 2 Axes>"
            ],
            "image/png": "[encoded data removed]"
          },
          "metadata": {}
        },
        {
          "output_type": "stream",
          "name": "stdout",
          "text": [
            "Média antes: 5.3102\n",
            "Desvio padrão antes: 10.2564\n",
            "Média depois: -0.0000\n",
            "Desvio padrão depois: 1.0005\n"
          ]
        }
      ],
      "source": [
        "import torch\n",
        "import matplotlib.pyplot as plt\n",
        "\n",
        "# Implementação da z-normalização\n",
        "def z_normalize(x: torch.Tensor) -> torch.Tensor:\n",
        "    \"\"\"\n",
        "    Standard‑score normalization: (x – μ) / σ\n",
        "    \"\"\"\n",
        "    mean = x.mean()\n",
        "    std  = x.std(unbiased=False)  # population std for consistency\n",
        "    return (x - mean) / std\n",
        "\n",
        "# Dados sintéticos e visualização\n",
        "x = torch.randn(1000) * 10 + 5\n",
        "x_norm = z_normalize(x)\n",
        "\n",
        "plt.figure(figsize=(12,5))\n",
        "plt.subplot(1,2,1)\n",
        "plt.title('Antes da z-normalização')\n",
        "plt.hist(x.numpy(), bins=30)\n",
        "plt.subplot(1,2,2)\n",
        "plt.title('Depois da z-normalização')\n",
        "plt.hist(x_norm.numpy(), bins=30)\n",
        "plt.show()\n",
        "\n",
        "# Verificação de média e desvio padrão\n",
        "print(f\"Média antes: {x.mean().item():.4f}\")\n",
        "print(f\"Desvio padrão antes: {x.std().item():.4f}\")\n",
        "\n",
        "print(f\"Média depois: {x_norm.mean().item():.4f}\")\n",
        "print(f\"Desvio padrão depois: {x_norm.std().item():.4f}\")"
      ]
    },
    {
      "cell_type": "markdown",
      "source": [
        "\n",
        "### Pergunta teórica\n",
        "1. O que significa normalizar um vetor com Z-score?\n",
        "2. Por que isso ajuda no treinamento de redes neurais?"
      ],
      "metadata": {
        "id": "IUZK0ZP8ClHh"
      },
      "id": "IUZK0ZP8ClHh"
    },
    {
      "cell_type": "markdown",
      "id": "d10eff5f",
      "metadata": {
        "id": "d10eff5f"
      },
      "source": [
        "---\n",
        "\n",
        "## 2. Implementação de Camadas de Normalização\n",
        "\n",
        "Neste exercício vamos implementar as diferentes camadas de normalização vistas na aula e comparar a nossa implementação com a do Pytorch.\n",
        "\n",
        "\n",
        "**Abaixo está um exemplo com a layer normalization:**"
      ]
    },
    {
      "cell_type": "code",
      "execution_count": 3,
      "id": "be88f4f6",
      "metadata": {
        "id": "be88f4f6",
        "outputId": "5d40627e-5abe-4810-dd8a-a12d93bd7bd9",
        "colab": {
          "base_uri": "https://localhost:8080/"
        }
      },
      "outputs": [
        {
          "output_type": "stream",
          "name": "stdout",
          "text": [
            "Erro MAE LayerNorm: 2.619493422173491e-08\n"
          ]
        }
      ],
      "source": [
        "import torch\n",
        "import torch.nn.functional as F\n",
        "from torch import nn\n",
        "\n",
        "# Exemplo: implementação manual de LayerNorm\n",
        "def layer_norm_manual(x: torch.Tensor, eps: float = 1e-5):\n",
        "    # x: (N, C, H, W)\n",
        "    dims = [1,2,3]\n",
        "    mean = x.mean(dim=dims, keepdim=True)\n",
        "    var = x.var(dim=dims, keepdim=True, unbiased=False)\n",
        "    return (x - mean) / torch.sqrt(var + eps)\n",
        "\n",
        "# Teste comparativo\n",
        "x = torch.randn(4, 3, 32, 32)\n",
        "ln = nn.LayerNorm([3,32,32])\n",
        "out_manual = layer_norm_manual(x)\n",
        "out_torch = ln(x)\n",
        "print('Erro MAE LayerNorm:', torch.abs(out_manual - out_torch).mean().item())"
      ]
    },
    {
      "cell_type": "markdown",
      "source": [
        "\n",
        "Agora é a sua vez (exercício difícil)!\n",
        "\n",
        "Implemente manualmente cada uma das funções de normalização apresentadas na aula e compare-a com a implementação do Pytorch:\n",
        "\n",
        "- **BatchNorm2d:** média e variância em (N, H, W) para cada canal.\n",
        "- **InstanceNorm2d:** média e variância em (H, W) para cada instância e canal.\n",
        "- **GroupNorm:** divida C em grupos e calcule por grupo.\n",
        "- **RMSNorm:** normalize pela raiz da média quadrática sem subtrair média."
      ],
      "metadata": {
        "id": "C50QZ9c4_wdw"
      },
      "id": "C50QZ9c4_wdw"
    },
    {
      "cell_type": "code",
      "source": [
        "import torch\n",
        "from torch import nn\n",
        "\n",
        "# ------------ 1. BatchNorm2d ------------ #\n",
        "def batch_norm2d_manual(x: torch.Tensor, eps: float = 1e-5):\n",
        "    # stats over batch + spatial dims, per channel\n",
        "    mean = x.mean(dim=(0, 2, 3), keepdim=True)\n",
        "    var  = x.var(dim=(0, 2, 3), keepdim=True, unbiased=False)\n",
        "    return (x - mean) / torch.sqrt(var + eps)\n",
        "\n",
        "# ------------ 2. InstanceNorm2d ------------ #\n",
        "def instance_norm2d_manual(x: torch.Tensor, eps: float = 1e-5):\n",
        "    # stats over spatial dims, per sample & channel\n",
        "    mean = x.mean(dim=(2, 3), keepdim=True)\n",
        "    var  = x.var(dim=(2, 3), keepdim=True, unbiased=False)\n",
        "    return (x - mean) / torch.sqrt(var + eps)\n",
        "\n",
        "# ------------ 3. GroupNorm ------------ #\n",
        "def group_norm_manual(x: torch.Tensor, num_groups: int, eps: float = 1e-5):\n",
        "    N, C, H, W = x.shape\n",
        "    assert C % num_groups == 0, \"C must be divisible by num_groups\"\n",
        "    x = x.view(N, num_groups, C // num_groups, H, W)\n",
        "    mean = x.mean(dim=(2, 3, 4), keepdim=True)\n",
        "    var  = x.var(dim=(2, 3, 4), keepdim=True, unbiased=False)\n",
        "    x_norm = (x - mean) / torch.sqrt(var + eps)\n",
        "    return x_norm.view(N, C, H, W)\n",
        "\n",
        "# ------------ 4. RMSNorm (no mean subtraction) ------------ #\n",
        "def rms_norm_manual(x: torch.Tensor, eps: float = 1e-5):\n",
        "    # normalise by root‑mean‑square across last D dims (all but batch)\n",
        "    rms = torch.sqrt(torch.mean(x**2, dim=tuple(range(1, x.dim())), keepdim=True) + eps)\n",
        "    return x / rms\n"
      ],
      "metadata": {
        "id": "JdLnKgvEAROX"
      },
      "id": "JdLnKgvEAROX",
      "execution_count": 4,
      "outputs": []
    },
    {
      "cell_type": "code",
      "source": [
        "x = torch.randn(4, 8, 32, 32)\n",
        "\n",
        "# BatchNorm2d\n",
        "bn_man  = batch_norm2d_manual(x)\n",
        "bn_torch = nn.BatchNorm2d(8, affine=False, track_running_stats=False)(x)\n",
        "print(\"BatchNorm MAE:\", (bn_man - bn_torch).abs().mean().item())\n",
        "\n",
        "# InstanceNorm2d\n",
        "in_man  = instance_norm2d_manual(x)\n",
        "in_torch = nn.InstanceNorm2d(8, affine=False, track_running_stats=False)(x)\n",
        "print(\"InstanceNorm MAE:\", (in_man - in_torch).abs().mean().item())\n",
        "\n",
        "# GroupNorm (e.g. 4 groups)\n",
        "gn_man  = group_norm_manual(x, num_groups=4)\n",
        "gn_torch = nn.GroupNorm(4, 8, affine=False)(x)\n",
        "print(\"GroupNorm MAE:\", (gn_man - gn_torch).abs().mean().item())\n",
        "\n",
        "# RMSNorm: compare against reference implementation\n",
        "def rms_norm_ref(x, eps=1e-5):\n",
        "    rms = torch.sqrt(torch.mean(x**2, dim=tuple(range(1, x.dim())), keepdim=True) + eps)\n",
        "    return x / rms\n",
        "print(\"RMSNorm MAE:\", (rms_norm_manual(x) - rms_norm_ref(x)).abs().mean().item())\n"
      ],
      "metadata": {
        "id": "9QynsVqRC6rh",
        "outputId": "40b38e0d-d07c-4b61-eb8e-d1e622158d3a",
        "colab": {
          "base_uri": "https://localhost:8080/"
        }
      },
      "id": "9QynsVqRC6rh",
      "execution_count": 5,
      "outputs": [
        {
          "output_type": "stream",
          "name": "stdout",
          "text": [
            "BatchNorm MAE: 2.844080881914124e-08\n",
            "InstanceNorm MAE: 3.3442081104340105e-08\n",
            "GroupNorm MAE: 2.727947290281918e-08\n",
            "RMSNorm MAE: 0.0\n"
          ]
        }
      ]
    },
    {
      "cell_type": "code",
      "source": [],
      "metadata": {
        "id": "PHcxzkHnC6th"
      },
      "id": "PHcxzkHnC6th",
      "execution_count": null,
      "outputs": []
    },
    {
      "cell_type": "markdown",
      "source": [
        "\n",
        "### Pergunta teórica\n",
        "1. O que acontece na batch norm caso o tamanho do batch seja pequeno?\n",
        "2. Onde cada uma das funções do normalizações acima é mais usada e por que?"
      ],
      "metadata": {
        "id": "hOMA2Ru1CSJP"
      },
      "id": "hOMA2Ru1CSJP"
    },
    {
      "cell_type": "markdown",
      "id": "044c2408",
      "metadata": {
        "id": "044c2408"
      },
      "source": [
        "---\n",
        "\n",
        "## 3. Dynamic Tanh vs. Normalização\n",
        "\n",
        "Implemente a função DynTanH conforme apresentada na aula."
      ]
    },
    {
      "cell_type": "code",
      "execution_count": 6,
      "id": "d656ca1c",
      "metadata": {
        "id": "d656ca1c",
        "outputId": "d1b7d880-ac18-4c52-9062-0ee79eb4b716",
        "colab": {
          "base_uri": "https://localhost:8080/",
          "height": 468
        }
      },
      "outputs": [
        {
          "output_type": "display_data",
          "data": {
            "text/plain": [
              "<Figure size 800x500 with 1 Axes>"
            ],
            "image/png": "[encoded data removed]"
          },
          "metadata": {}
        }
      ],
      "source": [
        "import numpy as np\n",
        "import matplotlib.pyplot as plt\n",
        "\n",
        "# Implemente aqui\n",
        "import torch\n",
        "\n",
        "def dyn_tanh(x: torch.Tensor,\n",
        "             alpha: float,\n",
        "             gamma: float = 1.0,\n",
        "             beta:  float = 0.0) -> torch.Tensor:\n",
        "    \"\"\"\n",
        "    Dynamic Tanh (DyT)\n",
        "    y = γ · tanh(α · x) + β\n",
        "\n",
        "    • alpha (α)  – learnable/global scaling that adapts to the input range\n",
        "    • gamma (γ)  – learnable per‑channel gain (like LayerNorm’s weight)\n",
        "    • beta  (β)  – learnable per‑channel bias (like LayerNorm’s bias)\n",
        "    \"\"\"\n",
        "    # ensure broadcastable tensors\n",
        "    alpha = torch.as_tensor(alpha, dtype=x.dtype, device=x.device)\n",
        "    gamma = torch.as_tensor(gamma, dtype=x.dtype, device=x.device)\n",
        "    beta  = torch.as_tensor(beta,  dtype=x.dtype, device=x.device)\n",
        "    return gamma * torch.tanh(alpha * x) + beta\n",
        "\n",
        "\n",
        "x = torch.linspace(-3,3,500)\n",
        "plt.figure(figsize=(8,5))\n",
        "for alpha in [0.5, 1.0, 2.0]:\n",
        "    y = dyn_tanh(x, alpha, gamma=1, beta=0)\n",
        "    plt.plot(x.numpy(), y.numpy(), label=f'alpha={alpha}')\n",
        "plt.title('Dynamic Tanh para diferentes alpha')\n",
        "plt.legend()\n",
        "plt.show()"
      ]
    },
    {
      "cell_type": "markdown",
      "id": "4fbe92c2",
      "metadata": {
        "id": "4fbe92c2"
      },
      "source": [
        "---\n",
        "\n",
        "## 4. Benchmark de Tempo e Parâmetros\n",
        "\n",
        "Compare o tempo de execução e o número de parâmetros das funções de normalização estudadas.\n"
      ]
    },
    {
      "cell_type": "code",
      "execution_count": 8,
      "id": "d340af3a",
      "metadata": {
        "id": "d340af3a",
        "outputId": "818a5e63-9e1e-4c7a-b2c5-9ec041c255bb",
        "colab": {
          "base_uri": "https://localhost:8080/"
        }
      },
      "outputs": [
        {
          "output_type": "stream",
          "name": "stdout",
          "text": [
            "BatchNorm2d: tempo médio 9.809 ms, parâmetros 128\n",
            "LayerNorm: tempo médio 4.098 ms, parâmetros 131072\n",
            "InstanceNorm2d: tempo médio 8.997 ms, parâmetros 0\n",
            "GroupNorm: tempo médio 2.896 ms, parâmetros 128\n",
            "RMSNorm: tempo médio 3.434 ms, parâmetros 0\n"
          ]
        }
      ],
      "source": [
        "import timeit\n",
        "from torch import nn\n",
        "\n",
        "C, H, W = 64, 32, 32\n",
        "tensor = torch.randn(32, C, H, W)\n",
        "modules = {\n",
        "    'BatchNorm2d': nn.BatchNorm2d(C), # Initialize with a BatchNorm2d instance\n",
        "    'LayerNorm': nn.LayerNorm([C, H, W]), # Initialize with a LayerNorm instance\n",
        "    'InstanceNorm2d': nn.InstanceNorm2d(C), # Initialize with an InstanceNorm2d instance\n",
        "    'GroupNorm': nn.GroupNorm(num_groups=32, num_channels=C), # Initialize with a GroupNorm instance - using 32 groups as an example\n",
        "    'RMSNorm': lambda x: x / torch.sqrt(torch.mean(x**2, dim=tuple(range(1, x.dim())), keepdim=True) + 1e-5), #Custom RMSNorm as it is not directly in PyTorch\n",
        "}\n",
        "\n",
        "for name, mod in modules.items():\n",
        "    _ = mod(tensor)\n",
        "    t = timeit.timeit(lambda: mod(tensor), number=100)\n",
        "    if name != 'RMSNorm': #RMSNorm is a lambda function, not a nn.Module\n",
        "        params = sum(p.numel() for p in mod.parameters() if p.requires_grad)\n",
        "    else:\n",
        "        params = 0\n",
        "    print(f\"{name}: tempo médio {t/100*1000:.3f} ms, parâmetros {params}\")"
      ]
    },
    {
      "cell_type": "markdown",
      "id": "41902082",
      "metadata": {
        "id": "41902082"
      },
      "source": [
        "---\n",
        "\n",
        "## 5. Experimento Final: Treinamento com Diferentes Normalizações\n",
        "\n",
        "**Agora é a sua vez!!**\n",
        "\n",
        "Escolhe um problema, instancie o dataset e treine um modelo com as diferentes funções de normalização estudadas. Compare a convergencia do treinamento e o resultado obtido com cada uma delas!"
      ]
    },
    {
      "cell_type": "code",
      "source": [
        "from torchvision import datasets, transforms\n",
        "train_t = transforms.Compose([transforms.ToTensor()])\n",
        "test_t  = transforms.Compose([transforms.ToTensor()])\n",
        "\n",
        "train_ds = datasets.CIFAR10(root='data', train=True , download=True, transform=train_t)\n",
        "test_ds  = datasets.CIFAR10(root='data', train=False, download=True, transform=test_t)\n"
      ],
      "metadata": {
        "id": "OGcp-xvRCOtg",
        "outputId": "7e91b08d-cc7c-46e4-ac33-47f3a873dbf6",
        "colab": {
          "base_uri": "https://localhost:8080/"
        }
      },
      "id": "OGcp-xvRCOtg",
      "execution_count": 9,
      "outputs": [
        {
          "output_type": "stream",
          "name": "stderr",
          "text": [
            "100%|██████████| 170M/170M [00:03<00:00, 48.6MB/s]\n"
          ]
        }
      ]
    },
    {
      "cell_type": "code",
      "source": [
        "import torch.nn as nn\n",
        "\n",
        "def get_norm(norm_type: str, num_ch: int):\n",
        "    if norm_type == \"batch\":      return nn.BatchNorm2d(num_ch)\n",
        "    if norm_type == \"instance\":   return nn.InstanceNorm2d(num_ch)\n",
        "    if norm_type == \"layer\":      return nn.GroupNorm(1, num_ch)       # LayerNorm 2D\n",
        "    if norm_type == \"group\":      return nn.GroupNorm(4, num_ch)       # divide em 4 grupos\n",
        "    if norm_type == \"rms\":        return nn.RMSNorm(num_ch)            # PyTorch ≥2.4\n",
        "    raise ValueError(f\"Norm {norm_type} não suportada\")\n"
      ],
      "metadata": {
        "id": "GcocRa1hhVB0"
      },
      "id": "GcocRa1hhVB0",
      "execution_count": 10,
      "outputs": []
    },
    {
      "cell_type": "code",
      "source": [
        "class SmallCNN(nn.Module):\n",
        "    def __init__(self, norm_type=\"batch\"):\n",
        "        super().__init__()\n",
        "        self.net = nn.Sequential(\n",
        "            nn.Conv2d(3, 32, 3, padding=1),  get_norm(norm_type, 32), nn.ReLU(),\n",
        "            nn.Conv2d(32, 64, 3, padding=1), get_norm(norm_type, 64), nn.ReLU(),\n",
        "            nn.MaxPool2d(2),\n",
        "\n",
        "            nn.Conv2d(64, 128, 3, padding=1), get_norm(norm_type, 128), nn.ReLU(),\n",
        "            nn.AdaptiveAvgPool2d(1),\n",
        "            nn.Flatten(),\n",
        "            nn.Linear(128, 10)\n",
        "        )\n",
        "\n",
        "    def forward(self, x): return self.net(x)\n"
      ],
      "metadata": {
        "id": "YYWPVR3lhVQI"
      },
      "id": "YYWPVR3lhVQI",
      "execution_count": 11,
      "outputs": []
    },
    {
      "cell_type": "code",
      "source": [
        "def train(model, optim, loader, device):\n",
        "    model.train(); loss_fn = nn.CrossEntropyLoss(); acc, tot = 0, 0\n",
        "    for x,y in loader:\n",
        "        x,y = x.to(device), y.to(device)\n",
        "        optim.zero_grad()\n",
        "        out = model(x); loss = loss_fn(out, y); loss.backward(); optim.step()\n",
        "        acc += (out.argmax(1) == y).sum().item(); tot += y.size(0)\n",
        "    return loss.item(), acc / tot\n"
      ],
      "metadata": {
        "id": "5gNLE_Lxhcp1"
      },
      "id": "5gNLE_Lxhcp1",
      "execution_count": 12,
      "outputs": []
    },
    {
      "cell_type": "code",
      "source": [
        "from torch.utils.data import DataLoader\n",
        "device = \"cuda\" if torch.cuda.is_available() else \"cpu\"\n",
        "load_train = DataLoader(train_ds, batch_size=128, shuffle=True)\n",
        "\n",
        "norms = [\"batch\", \"instance\", \"layer\", \"group\", \"rms\"]\n",
        "results = {}\n",
        "\n",
        "for n in norms:\n",
        "    model = SmallCNN(norm_type=n).to(device)\n",
        "    optim = torch.optim.AdamW(model.parameters(), lr=3e-4)\n",
        "    losses, accs = [], []\n",
        "    for epoch in range(10):                        # treine rápido (10 épocas)\n",
        "        loss, acc = train(model, optim, load_train, device)\n",
        "        losses.append(loss); accs.append(acc)\n",
        "    results[n] = {\"loss\": losses, \"acc\": accs}\n"
      ],
      "metadata": {
        "id": "LulFDdaZhcyL"
      },
      "id": "LulFDdaZhcyL",
      "execution_count": null,
      "outputs": []
    },
    {
      "cell_type": "code",
      "source": [
        "import matplotlib.pyplot as plt\n",
        "for metric in [\"loss\", \"acc\"]:\n",
        "    plt.figure(figsize=(6,4))\n",
        "    for n in norms:\n",
        "        plt.plot(results[n][metric], label=n)\n",
        "    plt.title(metric.upper()); plt.legend(); plt.show()\n"
      ],
      "metadata": {
        "id": "1u6KDyuGhjzw"
      },
      "id": "1u6KDyuGhjzw",
      "execution_count": null,
      "outputs": []
    },
    {
      "cell_type": "code",
      "source": [],
      "metadata": {
        "id": "YPC7Z1luhj48"
      },
      "id": "YPC7Z1luhj48",
      "execution_count": null,
      "outputs": []
    }
  ],
  "metadata": {
    "colab": {
      "provenance": [],
      "include_colab_link": true
    },
    "language_info": {
      "name": "python"
    },
    "kernelspec": {
      "name": "python3",
      "display_name": "Python 3"
    }
  },
  "nbformat": 4,
  "nbformat_minor": 5
}